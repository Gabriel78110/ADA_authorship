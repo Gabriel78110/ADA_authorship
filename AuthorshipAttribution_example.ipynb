{
 "cells": [
  {
   "cell_type": "markdown",
   "metadata": {},
   "source": [
    "Download books of two authors from the Gutenberg Project\n",
    "Use HC scores to attribute each book to the corpus of its author.\n",
    "\n",
    "Require packages 'gutenberg' and 'plotnine'"
   ]
  },
  {
   "cell_type": "code",
   "execution_count": 1,
   "metadata": {},
   "outputs": [],
   "source": [
    "import pandas as pd\n",
    "import numpy as np\n",
    "from tqdm import tqdm\n",
    "import requests\n",
    "\n",
    "#import auxiliary functions for python\n",
    "import sys\n",
    "from AuthAttLib import *\n",
    "from visualize_HC_scores import *\n",
    "%matplotlib inline\n",
    "\n",
    "from gutenberg.acquire import load_etext\n",
    "from gutenberg.cleanup import strip_headers"
   ]
  },
  {
   "cell_type": "markdown",
   "metadata": {},
   "source": [
    "<H1> Dicknes vs Austin </H1>"
   ]
  },
  {
   "cell_type": "markdown",
   "metadata": {},
   "source": [
    "<H3>Download data from Gutenberg.org</H3>"
   ]
  },
  {
   "cell_type": "code",
   "execution_count": 3,
   "metadata": {},
   "outputs": [
    {
     "name": "stdout",
     "output_type": "stream",
     "text": [
      " Downloaded Villette by Charlotte of length 195699 words\n",
      " Downloaded Shirley by Charlotte of length 219281 words\n",
      " Downloaded The Professor by Charlotte of length 91080 words\n",
      " Downloaded Jane Eyre by Charlotte of length 188455 words\n",
      " Downloaded The Tenant of Wildfell Hall by Anne of length 171627 words\n",
      " Downloaded Agnes Grey by Anne of length 70753 words\n",
      " Downloaded Wuthering Heights by Emily of length 118899 words\n",
      " Downloaded Poems by Anne/Charlotte/Emily of length 34019 words\n",
      " Downloaded Persuasion by Jane Austin of length 86307 words\n",
      " Downloaded Emma by Jane Austin of length 160458 words\n",
      " Downloaded Lady Susan by Jane Austin of length 26065 words\n",
      " Downloaded Mansfield Park by Jane Austin of length 162562 words\n",
      " Downloaded Northanger Abbey by Jane Austin of length 80158 words\n",
      " Downloaded Pride and Prejudice by Jane Austin of length 124592 words\n",
      " Downloaded Love and Friendship (Early Works) by Jane Austin of length 36295 words\n",
      " Downloaded American Notes by Charles Dickens of length 106399 words\n",
      " Downloaded Barnaby Rudge by Charles Dickens of length 256292 words\n",
      " Downloaded Children Stories by Charles Dickens of length 21954 words\n",
      " Downloaded The Battle of Life by Charles Dickens of length 32672 words\n",
      " Downloaded Bleak House by Charles Dickens of length 356466 words\n",
      " Downloaded David Copperfield by Charles Dickens of length 357847 words\n",
      " Downloaded Doctor Marigold by Charles Dickens of length 14909 words\n",
      " Downloaded Great Expectations by Charles Dickens of length 187425 words\n",
      " Downloaded Oliver Twist by Charles Dickens of length 161009 words\n",
      " Downloaded A Tale of Two Cities by Charles Dickens of length 138883 words\n",
      " Downloaded A Chrismas Carol by Charles Dickens of length 31568 words\n",
      " Downloaded Little Dorit by Charles Dickens of length 340399 words\n",
      " Downloaded Hard Times by Charles Dickens of length 106252 words\n",
      " Downloaded The Pickwick Papers by Charles Dickens of length 303115 words\n",
      " Downloaded Our Mutual Friend by Charles Dickens of length 328168 words\n",
      " Downloaded The Mufdog and Other Sketches by Charles Dickens of length 33777 words\n",
      " Downloaded Nicholas Nickleby by Charles Dickens of length 325336 words\n",
      " Downloaded The Old Curiosity Shop by Charles Dickens of length 219015 words\n",
      " Downloaded A Child's History of England by Charles Dickens of length 165705 words\n",
      " Downloaded The Mystery of Edwin Drood by Charles Dickens of length 98635 words\n",
      " Downloaded Martin Chuzzlewit by Charles Dickens of length 339768 words\n",
      " Downloaded Sketches by Boz by Charles Dickens of length 255582 words\n",
      " Downloaded Dombey and son by Charles Dickens of length 357851 words\n",
      " Downloaded The Lamplighter by Charles Dickens of length 10037 words\n"
     ]
    }
   ],
   "source": [
    "Austin = [\n",
    "('Jane Austin', 'Persuasion', \"http://www.gutenberg.org/cache/epub/105/pg105.txt\"),\n",
    "('Jane Austin', 'Emma', \"https://www.gutenberg.org/files/158/158-0.txt\"),\n",
    "('Jane Austin', 'Lady Susan', \"http://www.gutenberg.org/cache/epub/946/pg946.txt\"),\n",
    "('Jane Austin', 'Mansfield Park', \"https://www.gutenberg.org/files/141/141-0.txt\"),\n",
    "('Jane Austin', 'Northanger Abbey', \"https://www.gutenberg.org/files/121/121-0.txt\"),\n",
    "('Jane Austin', 'Pride and Prejudice', \"https://www.gutenberg.org/files/1342/1342-0.txt\"),\n",
    "('Jane Austin', 'Love and Friendship (Early Works)', \"https://www.gutenberg.org/files/1212/1212-0.txt\")\n",
    "]\n",
    "Dickens = [('Charles Dickens', 'American Notes', \"https://www.gutenberg.org/files/675/675-0.txt\"),\n",
    "('Charles Dickens', 'Barnaby Rudge', \"https://www.gutenberg.org/files/917/917-0.txt\"),\n",
    "('Charles Dickens', 'Children Stories', \"http://www.gutenberg.org/cache/epub/37121/pg37121.txt\"),\n",
    "('Charles Dickens', 'The Battle of Life', \"http://www.gutenberg.org/cache/epub/676/pg676.txt\"),\n",
    "('Charles Dickens', 'Bleak House', \"http://www.gutenberg.org/cache/epub/1023/pg1023.txt\"),\n",
    "('Charles Dickens', 'David Copperfield', \"https://www.gutenberg.org/files/766/766-0.txt\"),\n",
    "('Charles Dickens', 'Doctor Marigold', \"http://www.gutenberg.org/cache/epub/1415/pg1415.txt\"),\n",
    "('Charles Dickens', 'Great Expectations', \"https://www.gutenberg.org/files/1400/1400-0.txt\"),\n",
    "('Charles Dickens', 'Oliver Twist', \"http://www.gutenberg.org/cache/epub/730/pg730.txt\"),\n",
    "('Charles Dickens', 'A Tale of Two Cities', 'https://www.gutenberg.org/files/98/98-0.txt'),\n",
    "('Charles Dickens', 'A Chrismas Carol', 'https://www.gutenberg.org/files/46/46-0.txt'),\n",
    "('Charles Dickens', 'Little Dorit', 'https://www.gutenberg.org/files/963/963-0.txt'),\n",
    "('Charles Dickens', 'Hard Times', 'https://www.gutenberg.org/files/786/786-0.txt'),\n",
    "('Charles Dickens', 'The Pickwick Papers', 'https://www.gutenberg.org/files/580/580-0.txt'),\n",
    "('Charles Dickens', 'Our Mutual Friend', 'https://www.gutenberg.org/files/883/883-0.txt'),\n",
    "('Charles Dickens', 'The Mufdog and Other Sketches', 'https://www.gutenberg.org/files/912/912-0.txt'),\n",
    "('Charles Dickens', 'Nicholas Nickleby', 'https://www.gutenberg.org/files/967/967-0.txt'),\n",
    "('Charles Dickens', 'The Old Curiosity Shop', 'https://www.gutenberg.org/files/700/700-0.txt'),\n",
    "('Charles Dickens', 'A Child\\'s History of England' , 'http://www.gutenberg.org/cache/epub/699/pg699.txt'),\n",
    "('Charles Dickens', 'The Mystery of Edwin Drood', 'https://www.gutenberg.org/files/564/564-0.txt'),\n",
    "('Charles Dickens', 'Martin Chuzzlewit', 'https://www.gutenberg.org/files/968/968-0.txt'),\n",
    "('Charles Dickens', 'Sketches by Boz', 'https://www.gutenberg.org/files/882/882-0.txt'),\n",
    "('Charles Dickens', 'Dombey and son', 'https://www.gutenberg.org/files/821/821-0.txt'),\n",
    "('Charles Dickens', 'The Lamplighter', 'https://www.gutenberg.org/files/927/927-0.txt')\n",
    "]\n",
    "Bronte_sisters = [\n",
    "    ('Charlotte', 'Villette', 'http://www.gutenberg.org/cache/epub/9182/pg9182.txt'),\n",
    "    ('Charlotte', 'Shirley', 'https://www.gutenberg.org/files/30486/30486-0.txt'),\n",
    "    ('Charlotte', 'The Professor', 'https://www.gutenberg.org/files/1028/1028-0.txt'),\n",
    "    ('Charlotte', 'Jane Eyre', 'http://www.gutenberg.org/cache/epub/1260/pg1260.txt'),\n",
    "    ('Anne', 'The Tenant of Wildfell Hall', 'https://www.gutenberg.org/files/969/969-0.txt'),\n",
    "    ('Anne', 'Agnes Grey', 'https://www.gutenberg.org/files/767/767-0.txt'),\n",
    "    ('Emily', 'Wuthering Heights', 'http://www.gutenberg.org/cache/epub/768/pg768.txt'),\n",
    "    ('Anne/Charlotte/Emily', 'Poems', 'http://www.gutenberg.org/cache/epub/1019/pg1019.txt'),\n",
    "]\n",
    "\n",
    " \n",
    "def download_text(url) :    \n",
    "    r = requests.get(url)\n",
    "    if r.status_code == requests.codes.ok :\n",
    "        return r.text.encode('UTF-8') \n",
    "    else:\n",
    "        print('Failed')\n",
    "        return \"\"\n",
    "\n",
    "lo_lists = dict({'Bronte' : Bronte_sisters,\n",
    "                 'Austin' : Austin,\n",
    "                 'Dickens' : Dickens})\n",
    "\n",
    "for ls in lo_lists :\n",
    "    data = pd.DataFrame(lo_lists[ls], columns=['author', 'title', 'url'])\n",
    "    data.loc[:,'text'] = data.url.apply(download_text)\n",
    "    for r in data.iterrows() :\n",
    "        print(\" Downloaded {} by {} of length {} words\".format(r[1].title,r[1].author, len(r[1].text.split())) )\n",
    "    #    r.text.apply(lambda x : len(x.split())).mean()\n",
    "\n",
    "    data.to_csv('./Data/' + str(ls) + '.csv')"
   ]
  },
  {
   "cell_type": "markdown",
   "metadata": {},
   "source": [
    "<H3> Prepare data, trip header</H3>"
   ]
  },
  {
   "cell_type": "code",
   "execution_count": 5,
   "metadata": {},
   "outputs": [],
   "source": [
    "def clean_corpus(data) :\n",
    "    HEADER = 1000\n",
    "    data.text = data.text.apply(lambda x : x[HEADER:]) #trim header\n",
    "    data = data.filter(['author', 'title', 'text']).rename(columns = {'title' : 'doc_id'})\n",
    "    return data\n",
    "\n",
    "\n",
    "Dickens_corpus = pd.read_csv('Dickens.csv')\n",
    "Austin_corpus = pd.read_csv('Austin.csv')\n",
    "\n",
    "data = pd.concat([clean_corpus(Dickens_corpus),\n",
    "                  clean_corpus(Austin_corpus)])"
   ]
  },
  {
   "cell_type": "markdown",
   "metadata": {},
   "source": [
    "<H3>Train Model</H3>"
   ]
  },
  {
   "cell_type": "code",
   "execution_count": 9,
   "metadata": {},
   "outputs": [
    {
     "name": "stdout",
     "output_type": "stream",
     "text": [
      "\t AuthorModel: Creating model for Charles Dickens using 24 documents and 1000 features...\n",
      "\t found 5536365 relevant tokens\n",
      "\t AuthorModel: Creating model for Jane Austin using 7 documents and 1000 features...\n",
      "\t found 704019 relevant tokens\n"
     ]
    }
   ],
   "source": [
    "model = AuthorshipAttributionMultiText(data,\n",
    "                        vocab_size = 1000, # number of features\n",
    "                        words_to_ignore = ['?','.',',',':',';','!','-'],\n",
    "                        stbl = True, #mode of HC score\n",
    "                        ngram_range = (1,1), # how many ngram to use\n",
    "                        )"
   ]
  },
  {
   "cell_type": "code",
   "execution_count": 12,
   "metadata": {},
   "outputs": [
    {
     "name": "stderr",
     "output_type": "stream",
     "text": [
      "100%|██████████| 2/2 [00:01<00:00,  1.73it/s]\n",
      "100%|██████████| 2/2 [00:44<00:00, 24.70s/it]\n"
     ]
    }
   ],
   "source": [
    "#compute HC scores of document against each corpus \n",
    "df0 = model.internal_stats_corpus()\n",
    "df = model.internal_stats()"
   ]
  },
  {
   "cell_type": "markdown",
   "metadata": {},
   "source": [
    "<H2>Illustrate HC scores with respect to each author</H2>"
   ]
  },
  {
   "cell_type": "code",
   "execution_count": 13,
   "metadata": {},
   "outputs": [
    {
     "data": {
      "image/png": "[encoded data removed]",
      "text/plain": [
       "<Figure size 640x480 with 1 Axes>"
      ]
     },
     "metadata": {},
     "output_type": "display_data"
    },
    {
     "data": {
      "text/plain": [
       "<ggplot: (-9223372036547244414)>"
      ]
     },
     "execution_count": 13,
     "metadata": {},
     "output_type": "execute_result"
    }
   ],
   "source": [
    "plot_author_pair_HC(df, wrt_author=('Jane Austin', 'Charles Dickens'))"
   ]
  },
  {
   "cell_type": "markdown",
   "metadata": {},
   "source": [
    "<H1>Bronte Sisters</H1>"
   ]
  },
  {
   "cell_type": "code",
   "execution_count": 2,
   "metadata": {},
   "outputs": [
    {
     "name": "stdout",
     "output_type": "stream",
     "text": [
      "\t Creating author-model for Charlotte\n",
      "\t\tfound 4 documents, 1000 features, and 681754 relevant tokens\n",
      "\t Creating author-model for Anne\n",
      "\t\tfound 2 documents, 1000 features, and 296912 relevant tokens\n",
      "\t Creating author-model for Emily\n",
      "\t\tfound 1 documents, 1000 features, and 109817 relevant tokens\n",
      "\t Creating author-model for Anne/Charlotte/Emily\n",
      "\t\tfound 1 documents, 1000 features, and 31152 relevant tokens\n"
     ]
    }
   ],
   "source": [
    "def clean_corpus(data) :\n",
    "    HEADER = 1000\n",
    "    data.text = data.text.apply(lambda x : x[HEADER:]) #trim header\n",
    "    data = data.filter(['author', 'title', 'text']).rename(columns = {'title' : 'doc_id'})\n",
    "    return data\n",
    "\n",
    "\n",
    "Bronte_corpus = pd.read_csv('Bronte.csv')\n",
    "\n",
    "data = clean_corpus(Bronte_corpus)\n",
    "\n",
    "model = AuthorshipAttributionMultiText(data,\n",
    "                        vocab_size = 1000,\n",
    "                        words_to_ignore = [],\n",
    "                        stbl = True,\n",
    "                        ngram_range = (1,1),\n",
    "                        )\n",
    "\n"
   ]
  },
  {
   "cell_type": "code",
   "execution_count": 33,
   "metadata": {},
   "outputs": [
    {
     "name": "stderr",
     "output_type": "stream",
     "text": [
      "100%|██████████| 4/4 [00:03<00:00,  1.24it/s]\n",
      "100%|██████████| 4/4 [00:16<00:00,  4.14s/it]\n"
     ]
    },
    {
     "data": {
      "image/png": "[encoded data removed]",
      "text/plain": [
       "<Figure size 640x480 with 1 Axes>"
      ]
     },
     "metadata": {},
     "output_type": "display_data"
    },
    {
     "data": {
      "text/plain": [
       "<ggplot: (-9223372036542853390)>"
      ]
     },
     "execution_count": 33,
     "metadata": {},
     "output_type": "execute_result"
    }
   ],
   "source": [
    "#compute HC scores of document against each corpus \n",
    "df0 = model.internal_stats_corpus()\n",
    "df = model.internal_stats()\n",
    "\n",
    "plot_author_pair_HC(df, wrt_author=('Charlotte', 'Anne'))"
   ]
  },
  {
   "cell_type": "code",
   "execution_count": null,
   "metadata": {},
   "outputs": [],
   "source": []
  }
 ],
 "metadata": {
  "kernelspec": {
   "display_name": "Python 3",
   "language": "python",
   "name": "python3"
  },
  "language_info": {
   "codemirror_mode": {
    "name": "ipython",
    "version": 3
   },
   "file_extension": ".py",
   "mimetype": "text/x-python",
   "name": "python",
   "nbconvert_exporter": "python",
   "pygments_lexer": "ipython3",
   "version": "3.7.3"
  }
 },
 "nbformat": 4,
 "nbformat_minor": 2
}
